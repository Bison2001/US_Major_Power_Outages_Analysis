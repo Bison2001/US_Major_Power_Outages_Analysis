{
 "cells": [
  {
   "cell_type": "markdown",
   "metadata": {},
   "source": [
    "# Power Outages\n",
    "* **See the main project notebook for instructions to be sure you satisfy the rubric!**\n",
    "* See Project 03 for information on the dataset.\n",
    "* A few example prediction questions to pursue are listed below. However, don't limit yourself to them!\n",
    "    * Predict the severity (number of customers, duration, or demand loss) of a major power outage.\n",
    "    * Predict the cause of a major power outage.\n",
    "    * Predict the number and/or severity of major power outages in the year 2020.\n",
    "    * Predict the electricity consumption of an area.\n",
    "\n",
    "Be careful to justify what information you would know at the \"time of prediction\" and train your model using only those features."
   ]
  },
  {
   "cell_type": "markdown",
   "metadata": {},
   "source": [
    "1. State the *prediction problem* you are attempting. State whether the problem is a classification or regression problem. Explain your choice of target variable and evaluation metric (objective).\n",
    "1. A summary of the baseline model:\n",
    "    - The number of features, including how many are quantitative, ordinal, and nominal.\n",
    "    - The model performance (your evaluation metric) and whether you think this it's good or not (and why).\n",
    "1. A summary of the final, improved model:\n",
    "    - The features you added and *why* they are good for your data.\n",
    "    - The model type you chose; the parameters that ended up performing best; the method of model selection used.\n",
    "1. Evaluate your model for \"fairness\" on an interesting subset of the data using a permutation test. Justify the parity measure you are using."
   ]
  },
  {
   "cell_type": "markdown",
   "metadata": {},
   "source": [
    "# Summary of Findings\n",
    "\n",
    "\n",
    "### Introduction\n",
    "Following from project 03, in this Jupyter notebook, we focus our analysis on the dataset from [here](https://engineering.purdue.edu/LASCI/research-data/outages/outagerisks). This dataset serves as a rich repository of various information related to the major outage patterns, and characteristics of the states in the continental U.S., including their climate and topographical characteristics, electricity consumption patterns, population, and land-cover characteristics. In this project, we are going to come up with a prediction question based on this data, and answer it by using the method we learned during lecture.\n",
    "\n",
    "### Prediction Problem\n",
    " - Specifically, the prediction question we want to answer is \"Predict the cause of a major power outage\". To be more specific, we choose 'severe weather' in column `CAUSE.CATEGORY` in the table and want to know what other factors will trigger a major power outage that is caused by severe weather.\n",
    " - This problem is a classification prblem and our choice of target variables are `MONTH`, `CLIMATE.REGION`, `ANOMALY.LEVEL`, `CLIMATE.CATEGORY`, `CUSTOMERS.AFFECTED`, `DEMAND.LOSS.MW`, `OUTAGE.DURATION`. We use these variables because they are related to the cause of the outage. \n",
    " - We use accuracy as our evaluation metric in our model since we have a similar amount of positive and negative data.\n",
    "\n",
    "### Baseline Model\n",
    " - In our baseline model, we included 7 features, which are `MONTH`, `CLIMATE.REGION`, `ANOMALY.LEVEL`, `CLIMATE.CATEGORY`, `CUSTOMERS.AFFECTED`, `DEMAND.LOSS.MW`, `OUTAGE.DURATION`. Among them, `ANOMALY.LEVEL`, `CUSTOMERS.AFFECTED`, `DEMAND.LOSS.MW`, `OUTAGE.DURATION` are quantitative, `CLIMATE.REGION`, `CLIMATE.CATEGORY` and `MONTH` are nominal. (We counted `MONTH` as norminal since there are different years, details are illustrated in the project)\n",
    " - The accuracy of our baseline model prediction is 0.841, which is not bad. I think it is pretty good since 84.1% of the predictions are accurate, which is a relatively high rate.\n",
    "\n",
    "### Final Model\n",
    " - For our final model, we have added two features. The first one is to bining `DEMAND.LOSS.MW` and the second one is tha take the square root of `CUSTOMERS.AFFECTED`. We believe that binning the DEMAND.LOSS.MW can help our prediction because when people are reporting demand loss, they tend to only care about the magnitude, like whether the loss is in hundred, thousand or ten thousands. So, binning will make our data more meanningful. Taking square root of customers affected is also useful, since the customer affected data is heavly skewed to the right. Taking square root can correct this skewness. We have added these features and took a look at the accuracy, the accuracy has imporved.\n",
    " - We choose Decision Tree classifier as our model and we find that 4 is the best parameters for the depth of the decision tree. We use a for loop to perform the pipeline accuracy under different max_depth, and find the max accuracy.\n",
    "\n",
    "### Fairness Evaluation\n",
    " - For our fairness evaluation, we choose the column `POPULATION` and want to conduct a test that if severe weather causing the outages is \"fair\" among the different populations in states. \n",
    "  - We will use recall as our parity measurement. Since it will represent the proportion of actual positives were correctly identified.\n",
    " - Our null hypothesis is: severe weather causing the outages is \"fair\" among the different populations in states. The recall value for two groups are the same.\n",
    " - Alternative hypothesis is: severe weather causing the outages is NOT \"fair\" among the different populations in states. The recall value for two groups are different.\n"
   ]
  },
  {
   "cell_type": "markdown",
   "metadata": {},
   "source": [
    "# Code"
   ]
  },
  {
   "cell_type": "code",
   "execution_count": 1,
   "metadata": {},
   "outputs": [],
   "source": [
    "import matplotlib.pyplot as plt\n",
    "import numpy as np\n",
    "import os\n",
    "import pandas as pd\n",
    "import seaborn as sns\n",
    "%matplotlib inline\n",
    "%config InlineBackend.figure_format = 'retina'  # Higher resolution figures"
   ]
  },
  {
   "cell_type": "code",
   "execution_count": 2,
   "metadata": {},
   "outputs": [],
   "source": [
    "from sklearn.linear_model import LinearRegression\n",
    "from sklearn.preprocessing import FunctionTransformer\n",
    "from sklearn.preprocessing import OneHotEncoder\n",
    "from sklearn.pipeline import Pipeline\n",
    "from sklearn.compose import ColumnTransformer\n",
    "from sklearn.tree import DecisionTreeRegressor\n",
    "from sklearn.model_selection import train_test_split\n",
    "from sklearn.neighbors import KNeighborsRegressor\n",
    "from sklearn.preprocessing import Binarizer\n",
    "from sklearn.preprocessing import KBinsDiscretizer\n",
    "from sklearn.preprocessing import Normalizer\n",
    "from sklearn.tree import DecisionTreeClassifier\n",
    "from sklearn.impute import SimpleImputer\n",
    "from sklearn import metrics"
   ]
  },
  {
   "cell_type": "markdown",
   "metadata": {},
   "source": [
    "### Baseline Model"
   ]
  },
  {
   "cell_type": "markdown",
   "metadata": {},
   "source": [
    "In the following code, we develop a baseline model with generic set of features."
   ]
  },
  {
   "cell_type": "code",
   "execution_count": 46,
   "metadata": {},
   "outputs": [],
   "source": [
    "# Read data\n",
    "df = pd.read_excel(\"outage.xlsx\")\n",
    "\n",
    "# Do some basic cleaning as did in project03\n",
    "df1 = df.iloc[4:, :]\n",
    "column_names = df1.iloc[0].values[2:]\n",
    "df2 = df1.iloc[2:, 2:]\n",
    "df2.columns = column_names\n",
    "df2.index = range(df2.shape[0])"
   ]
  },
  {
   "cell_type": "code",
   "execution_count": 47,
   "metadata": {},
   "outputs": [
    {
     "data": {
      "text/html": [
       "<div>\n",
       "<style scoped>\n",
       "    .dataframe tbody tr th:only-of-type {\n",
       "        vertical-align: middle;\n",
       "    }\n",
       "\n",
       "    .dataframe tbody tr th {\n",
       "        vertical-align: top;\n",
       "    }\n",
       "\n",
       "    .dataframe thead th {\n",
       "        text-align: right;\n",
       "    }\n",
       "</style>\n",
       "<table border=\"1\" class=\"dataframe\">\n",
       "  <thead>\n",
       "    <tr style=\"text-align: right;\">\n",
       "      <th></th>\n",
       "      <th>YEAR</th>\n",
       "      <th>MONTH</th>\n",
       "      <th>U.S._STATE</th>\n",
       "      <th>POSTAL.CODE</th>\n",
       "      <th>NERC.REGION</th>\n",
       "      <th>CLIMATE.REGION</th>\n",
       "      <th>ANOMALY.LEVEL</th>\n",
       "      <th>CLIMATE.CATEGORY</th>\n",
       "      <th>OUTAGE.START.DATE</th>\n",
       "      <th>OUTAGE.START.TIME</th>\n",
       "      <th>...</th>\n",
       "      <th>POPPCT_URBAN</th>\n",
       "      <th>POPPCT_UC</th>\n",
       "      <th>POPDEN_URBAN</th>\n",
       "      <th>POPDEN_UC</th>\n",
       "      <th>POPDEN_RURAL</th>\n",
       "      <th>AREAPCT_URBAN</th>\n",
       "      <th>AREAPCT_UC</th>\n",
       "      <th>PCT_LAND</th>\n",
       "      <th>PCT_WATER_TOT</th>\n",
       "      <th>PCT_WATER_INLAND</th>\n",
       "    </tr>\n",
       "  </thead>\n",
       "  <tbody>\n",
       "    <tr>\n",
       "      <th>0</th>\n",
       "      <td>2011</td>\n",
       "      <td>7</td>\n",
       "      <td>Minnesota</td>\n",
       "      <td>MN</td>\n",
       "      <td>MRO</td>\n",
       "      <td>East North Central</td>\n",
       "      <td>-0.3</td>\n",
       "      <td>normal</td>\n",
       "      <td>2011-07-01 00:00:00</td>\n",
       "      <td>17:00:00</td>\n",
       "      <td>...</td>\n",
       "      <td>73.27</td>\n",
       "      <td>15.28</td>\n",
       "      <td>2279</td>\n",
       "      <td>1700.5</td>\n",
       "      <td>18.2</td>\n",
       "      <td>2.14</td>\n",
       "      <td>0.6</td>\n",
       "      <td>91.5927</td>\n",
       "      <td>8.40733</td>\n",
       "      <td>5.47874</td>\n",
       "    </tr>\n",
       "    <tr>\n",
       "      <th>1</th>\n",
       "      <td>2014</td>\n",
       "      <td>5</td>\n",
       "      <td>Minnesota</td>\n",
       "      <td>MN</td>\n",
       "      <td>MRO</td>\n",
       "      <td>East North Central</td>\n",
       "      <td>-0.1</td>\n",
       "      <td>normal</td>\n",
       "      <td>2014-05-11 00:00:00</td>\n",
       "      <td>18:38:00</td>\n",
       "      <td>...</td>\n",
       "      <td>73.27</td>\n",
       "      <td>15.28</td>\n",
       "      <td>2279</td>\n",
       "      <td>1700.5</td>\n",
       "      <td>18.2</td>\n",
       "      <td>2.14</td>\n",
       "      <td>0.6</td>\n",
       "      <td>91.5927</td>\n",
       "      <td>8.40733</td>\n",
       "      <td>5.47874</td>\n",
       "    </tr>\n",
       "    <tr>\n",
       "      <th>2</th>\n",
       "      <td>2010</td>\n",
       "      <td>10</td>\n",
       "      <td>Minnesota</td>\n",
       "      <td>MN</td>\n",
       "      <td>MRO</td>\n",
       "      <td>East North Central</td>\n",
       "      <td>-1.5</td>\n",
       "      <td>cold</td>\n",
       "      <td>2010-10-26 00:00:00</td>\n",
       "      <td>20:00:00</td>\n",
       "      <td>...</td>\n",
       "      <td>73.27</td>\n",
       "      <td>15.28</td>\n",
       "      <td>2279</td>\n",
       "      <td>1700.5</td>\n",
       "      <td>18.2</td>\n",
       "      <td>2.14</td>\n",
       "      <td>0.6</td>\n",
       "      <td>91.5927</td>\n",
       "      <td>8.40733</td>\n",
       "      <td>5.47874</td>\n",
       "    </tr>\n",
       "    <tr>\n",
       "      <th>3</th>\n",
       "      <td>2012</td>\n",
       "      <td>6</td>\n",
       "      <td>Minnesota</td>\n",
       "      <td>MN</td>\n",
       "      <td>MRO</td>\n",
       "      <td>East North Central</td>\n",
       "      <td>-0.1</td>\n",
       "      <td>normal</td>\n",
       "      <td>2012-06-19 00:00:00</td>\n",
       "      <td>04:30:00</td>\n",
       "      <td>...</td>\n",
       "      <td>73.27</td>\n",
       "      <td>15.28</td>\n",
       "      <td>2279</td>\n",
       "      <td>1700.5</td>\n",
       "      <td>18.2</td>\n",
       "      <td>2.14</td>\n",
       "      <td>0.6</td>\n",
       "      <td>91.5927</td>\n",
       "      <td>8.40733</td>\n",
       "      <td>5.47874</td>\n",
       "    </tr>\n",
       "    <tr>\n",
       "      <th>4</th>\n",
       "      <td>2015</td>\n",
       "      <td>7</td>\n",
       "      <td>Minnesota</td>\n",
       "      <td>MN</td>\n",
       "      <td>MRO</td>\n",
       "      <td>East North Central</td>\n",
       "      <td>1.2</td>\n",
       "      <td>warm</td>\n",
       "      <td>2015-07-18 00:00:00</td>\n",
       "      <td>02:00:00</td>\n",
       "      <td>...</td>\n",
       "      <td>73.27</td>\n",
       "      <td>15.28</td>\n",
       "      <td>2279</td>\n",
       "      <td>1700.5</td>\n",
       "      <td>18.2</td>\n",
       "      <td>2.14</td>\n",
       "      <td>0.6</td>\n",
       "      <td>91.5927</td>\n",
       "      <td>8.40733</td>\n",
       "      <td>5.47874</td>\n",
       "    </tr>\n",
       "  </tbody>\n",
       "</table>\n",
       "<p>5 rows × 55 columns</p>\n",
       "</div>"
      ],
      "text/plain": [
       "   YEAR MONTH U.S._STATE POSTAL.CODE NERC.REGION      CLIMATE.REGION  \\\n",
       "0  2011     7  Minnesota          MN         MRO  East North Central   \n",
       "1  2014     5  Minnesota          MN         MRO  East North Central   \n",
       "2  2010    10  Minnesota          MN         MRO  East North Central   \n",
       "3  2012     6  Minnesota          MN         MRO  East North Central   \n",
       "4  2015     7  Minnesota          MN         MRO  East North Central   \n",
       "\n",
       "  ANOMALY.LEVEL CLIMATE.CATEGORY    OUTAGE.START.DATE OUTAGE.START.TIME  ...  \\\n",
       "0          -0.3           normal  2011-07-01 00:00:00          17:00:00  ...   \n",
       "1          -0.1           normal  2014-05-11 00:00:00          18:38:00  ...   \n",
       "2          -1.5             cold  2010-10-26 00:00:00          20:00:00  ...   \n",
       "3          -0.1           normal  2012-06-19 00:00:00          04:30:00  ...   \n",
       "4           1.2             warm  2015-07-18 00:00:00          02:00:00  ...   \n",
       "\n",
       "  POPPCT_URBAN POPPCT_UC POPDEN_URBAN POPDEN_UC POPDEN_RURAL AREAPCT_URBAN  \\\n",
       "0        73.27     15.28         2279    1700.5         18.2          2.14   \n",
       "1        73.27     15.28         2279    1700.5         18.2          2.14   \n",
       "2        73.27     15.28         2279    1700.5         18.2          2.14   \n",
       "3        73.27     15.28         2279    1700.5         18.2          2.14   \n",
       "4        73.27     15.28         2279    1700.5         18.2          2.14   \n",
       "\n",
       "  AREAPCT_UC PCT_LAND PCT_WATER_TOT PCT_WATER_INLAND  \n",
       "0        0.6  91.5927       8.40733          5.47874  \n",
       "1        0.6  91.5927       8.40733          5.47874  \n",
       "2        0.6  91.5927       8.40733          5.47874  \n",
       "3        0.6  91.5927       8.40733          5.47874  \n",
       "4        0.6  91.5927       8.40733          5.47874  \n",
       "\n",
       "[5 rows x 55 columns]"
      ]
     },
     "execution_count": 47,
     "metadata": {},
     "output_type": "execute_result"
    }
   ],
   "source": [
    "# This is the data after basic cleaning\n",
    "df2.head()"
   ]
  },
  {
   "cell_type": "markdown",
   "metadata": {},
   "source": [
    "In this project, we want to predict the cause of a major power outage based on the information in the table. Specifically, we choose 'severe weather' in column `CAUSE.CATEGORY` and want to know what other factors will trigger a major power outage that is caused by severe weather."
   ]
  },
  {
   "cell_type": "markdown",
   "metadata": {},
   "source": [
    "First, we select few useful variables in our table that may help our predictions.\n",
    "- `MONTH` may be helpful, since severe weather may occur in some special months of a year.\n",
    "- `CLIMATE.REGION` may be helpful, since severe weather may more likely to occur in certain region than others.\n",
    "- `ANOMALY.LEVEL` and `CLIMATE.CATEGORY` may also be helpful since they are heavily related to climate, which may cause severe weather\n",
    "- `CUSTOMERS.AFFECTED` may be helpful. Since severe weather can influence a large region, it may indicate more affected customers may indicate that the ouage is caused by severe weather \n",
    "- `OUTAGE.DURATION` and `DEMAND.LOSS.MW` may also helpful since outages caused by severe weather would have their specific duration and demand loss -- but we are not sure about this, so we will check whether they have relationship with outages that are caused by severe weather or not first."
   ]
  },
  {
   "cell_type": "markdown",
   "metadata": {},
   "source": [
    "After selecting the set of variables, we firstly do some EDA on `CAUSE.CATEGORY`, `OUTAGE.DURATION` and `DEMAND.LOSS.MW`"
   ]
  },
  {
   "cell_type": "code",
   "execution_count": 48,
   "metadata": {},
   "outputs": [
    {
     "data": {
      "text/html": [
       "<div>\n",
       "<style scoped>\n",
       "    .dataframe tbody tr th:only-of-type {\n",
       "        vertical-align: middle;\n",
       "    }\n",
       "\n",
       "    .dataframe tbody tr th {\n",
       "        vertical-align: top;\n",
       "    }\n",
       "\n",
       "    .dataframe thead th {\n",
       "        text-align: right;\n",
       "    }\n",
       "</style>\n",
       "<table border=\"1\" class=\"dataframe\">\n",
       "  <thead>\n",
       "    <tr style=\"text-align: right;\">\n",
       "      <th></th>\n",
       "      <th>YEAR</th>\n",
       "      <th>MONTH</th>\n",
       "      <th>U.S._STATE</th>\n",
       "      <th>POSTAL.CODE</th>\n",
       "      <th>NERC.REGION</th>\n",
       "      <th>CLIMATE.REGION</th>\n",
       "      <th>ANOMALY.LEVEL</th>\n",
       "      <th>CLIMATE.CATEGORY</th>\n",
       "      <th>OUTAGE.START.DATE</th>\n",
       "      <th>OUTAGE.START.TIME</th>\n",
       "      <th>...</th>\n",
       "      <th>POPPCT_URBAN</th>\n",
       "      <th>POPPCT_UC</th>\n",
       "      <th>POPDEN_URBAN</th>\n",
       "      <th>POPDEN_UC</th>\n",
       "      <th>POPDEN_RURAL</th>\n",
       "      <th>AREAPCT_URBAN</th>\n",
       "      <th>AREAPCT_UC</th>\n",
       "      <th>PCT_LAND</th>\n",
       "      <th>PCT_WATER_TOT</th>\n",
       "      <th>PCT_WATER_INLAND</th>\n",
       "    </tr>\n",
       "  </thead>\n",
       "  <tbody>\n",
       "    <tr>\n",
       "      <th>0</th>\n",
       "      <td>2011</td>\n",
       "      <td>7</td>\n",
       "      <td>Minnesota</td>\n",
       "      <td>MN</td>\n",
       "      <td>MRO</td>\n",
       "      <td>East North Central</td>\n",
       "      <td>-0.3</td>\n",
       "      <td>normal</td>\n",
       "      <td>2011-07-01 00:00:00</td>\n",
       "      <td>17:00:00</td>\n",
       "      <td>...</td>\n",
       "      <td>73.27</td>\n",
       "      <td>15.28</td>\n",
       "      <td>2279</td>\n",
       "      <td>1700.5</td>\n",
       "      <td>18.2</td>\n",
       "      <td>2.14</td>\n",
       "      <td>0.6</td>\n",
       "      <td>91.5927</td>\n",
       "      <td>8.40733</td>\n",
       "      <td>5.47874</td>\n",
       "    </tr>\n",
       "    <tr>\n",
       "      <th>1</th>\n",
       "      <td>2014</td>\n",
       "      <td>5</td>\n",
       "      <td>Minnesota</td>\n",
       "      <td>MN</td>\n",
       "      <td>MRO</td>\n",
       "      <td>East North Central</td>\n",
       "      <td>-0.1</td>\n",
       "      <td>normal</td>\n",
       "      <td>2014-05-11 00:00:00</td>\n",
       "      <td>18:38:00</td>\n",
       "      <td>...</td>\n",
       "      <td>73.27</td>\n",
       "      <td>15.28</td>\n",
       "      <td>2279</td>\n",
       "      <td>1700.5</td>\n",
       "      <td>18.2</td>\n",
       "      <td>2.14</td>\n",
       "      <td>0.6</td>\n",
       "      <td>91.5927</td>\n",
       "      <td>8.40733</td>\n",
       "      <td>5.47874</td>\n",
       "    </tr>\n",
       "    <tr>\n",
       "      <th>2</th>\n",
       "      <td>2010</td>\n",
       "      <td>10</td>\n",
       "      <td>Minnesota</td>\n",
       "      <td>MN</td>\n",
       "      <td>MRO</td>\n",
       "      <td>East North Central</td>\n",
       "      <td>-1.5</td>\n",
       "      <td>cold</td>\n",
       "      <td>2010-10-26 00:00:00</td>\n",
       "      <td>20:00:00</td>\n",
       "      <td>...</td>\n",
       "      <td>73.27</td>\n",
       "      <td>15.28</td>\n",
       "      <td>2279</td>\n",
       "      <td>1700.5</td>\n",
       "      <td>18.2</td>\n",
       "      <td>2.14</td>\n",
       "      <td>0.6</td>\n",
       "      <td>91.5927</td>\n",
       "      <td>8.40733</td>\n",
       "      <td>5.47874</td>\n",
       "    </tr>\n",
       "    <tr>\n",
       "      <th>3</th>\n",
       "      <td>2012</td>\n",
       "      <td>6</td>\n",
       "      <td>Minnesota</td>\n",
       "      <td>MN</td>\n",
       "      <td>MRO</td>\n",
       "      <td>East North Central</td>\n",
       "      <td>-0.1</td>\n",
       "      <td>normal</td>\n",
       "      <td>2012-06-19 00:00:00</td>\n",
       "      <td>04:30:00</td>\n",
       "      <td>...</td>\n",
       "      <td>73.27</td>\n",
       "      <td>15.28</td>\n",
       "      <td>2279</td>\n",
       "      <td>1700.5</td>\n",
       "      <td>18.2</td>\n",
       "      <td>2.14</td>\n",
       "      <td>0.6</td>\n",
       "      <td>91.5927</td>\n",
       "      <td>8.40733</td>\n",
       "      <td>5.47874</td>\n",
       "    </tr>\n",
       "    <tr>\n",
       "      <th>4</th>\n",
       "      <td>2015</td>\n",
       "      <td>7</td>\n",
       "      <td>Minnesota</td>\n",
       "      <td>MN</td>\n",
       "      <td>MRO</td>\n",
       "      <td>East North Central</td>\n",
       "      <td>1.2</td>\n",
       "      <td>warm</td>\n",
       "      <td>2015-07-18 00:00:00</td>\n",
       "      <td>02:00:00</td>\n",
       "      <td>...</td>\n",
       "      <td>73.27</td>\n",
       "      <td>15.28</td>\n",
       "      <td>2279</td>\n",
       "      <td>1700.5</td>\n",
       "      <td>18.2</td>\n",
       "      <td>2.14</td>\n",
       "      <td>0.6</td>\n",
       "      <td>91.5927</td>\n",
       "      <td>8.40733</td>\n",
       "      <td>5.47874</td>\n",
       "    </tr>\n",
       "  </tbody>\n",
       "</table>\n",
       "<p>5 rows × 55 columns</p>\n",
       "</div>"
      ],
      "text/plain": [
       "   YEAR MONTH U.S._STATE POSTAL.CODE NERC.REGION      CLIMATE.REGION  \\\n",
       "0  2011     7  Minnesota          MN         MRO  East North Central   \n",
       "1  2014     5  Minnesota          MN         MRO  East North Central   \n",
       "2  2010    10  Minnesota          MN         MRO  East North Central   \n",
       "3  2012     6  Minnesota          MN         MRO  East North Central   \n",
       "4  2015     7  Minnesota          MN         MRO  East North Central   \n",
       "\n",
       "  ANOMALY.LEVEL CLIMATE.CATEGORY    OUTAGE.START.DATE OUTAGE.START.TIME  ...  \\\n",
       "0          -0.3           normal  2011-07-01 00:00:00          17:00:00  ...   \n",
       "1          -0.1           normal  2014-05-11 00:00:00          18:38:00  ...   \n",
       "2          -1.5             cold  2010-10-26 00:00:00          20:00:00  ...   \n",
       "3          -0.1           normal  2012-06-19 00:00:00          04:30:00  ...   \n",
       "4           1.2             warm  2015-07-18 00:00:00          02:00:00  ...   \n",
       "\n",
       "  POPPCT_URBAN POPPCT_UC  POPDEN_URBAN POPDEN_UC POPDEN_RURAL  AREAPCT_URBAN  \\\n",
       "0        73.27     15.28          2279    1700.5         18.2           2.14   \n",
       "1        73.27     15.28          2279    1700.5         18.2           2.14   \n",
       "2        73.27     15.28          2279    1700.5         18.2           2.14   \n",
       "3        73.27     15.28          2279    1700.5         18.2           2.14   \n",
       "4        73.27     15.28          2279    1700.5         18.2           2.14   \n",
       "\n",
       "   AREAPCT_UC PCT_LAND PCT_WATER_TOT PCT_WATER_INLAND  \n",
       "0         0.6  91.5927       8.40733          5.47874  \n",
       "1         0.6  91.5927       8.40733          5.47874  \n",
       "2         0.6  91.5927       8.40733          5.47874  \n",
       "3         0.6  91.5927       8.40733          5.47874  \n",
       "4         0.6  91.5927       8.40733          5.47874  \n",
       "\n",
       "[5 rows x 55 columns]"
      ]
     },
     "execution_count": 48,
     "metadata": {},
     "output_type": "execute_result"
    }
   ],
   "source": [
    "# copy the cleaned dataframe\n",
    "df3 = df2.copy()\n",
    "\n",
    "# rename the column 'CAUSE.CATEGORY' by whether it is equal to \"severe weather\"\n",
    "df3[\"CAUSE.CATEGORY\"] = (df3[\"CAUSE.CATEGORY\"] == \"severe weather\")\n",
    "\n",
    "# change the datatype of columns \"DEMAND.LOSS.MW\" and \"OUTAGE.DURATION\"\n",
    "df3[\"DEMAND.LOSS.MW\"] = df3[\"DEMAND.LOSS.MW\"].astype(np.float64)\n",
    "df3[\"OUTAGE.DURATION\"] = df3[\"OUTAGE.DURATION\"].astype(np.float64)\n",
    "\n",
    "# df3 is the new dataframe with columns 'CAUSE.CATEGORY', \"DEMAND.LOSS.MW\" and \"OUTAGE.DURATION\" adjusted\n",
    "df3.head()"
   ]
  },
  {
   "cell_type": "markdown",
   "metadata": {},
   "source": [
    "We check if `DEMAND.LOSS.MW` and `OUTAGE.DURATION` really have effects among the outages that are caused by severe weather and outages that are not."
   ]
  },
  {
   "cell_type": "code",
   "execution_count": 49,
   "metadata": {},
   "outputs": [
    {
     "data": {
      "text/plain": [
       "CAUSE.CATEGORY\n",
       "False    462.036697\n",
       "True     618.661578\n",
       "Name: DEMAND.LOSS.MW, dtype: float64"
      ]
     },
     "execution_count": 49,
     "metadata": {},
     "output_type": "execute_result"
    }
   ],
   "source": [
    "# check for \"DEMAND.LOSS.MW\"\n",
    "df3.groupby(\"CAUSE.CATEGORY\")[\"DEMAND.LOSS.MW\"].mean()"
   ]
  },
  {
   "cell_type": "code",
   "execution_count": 50,
   "metadata": {},
   "outputs": [
    {
     "data": {
      "text/plain": [
       "CAUSE.CATEGORY\n",
       "False    1346.178962\n",
       "True     3883.985215\n",
       "Name: OUTAGE.DURATION, dtype: float64"
      ]
     },
     "execution_count": 50,
     "metadata": {},
     "output_type": "execute_result"
    }
   ],
   "source": [
    "# check for \"OUTAGE.DURATION\"\n",
    "df3.groupby(\"CAUSE.CATEGORY\")[\"OUTAGE.DURATION\"].mean()"
   ]
  },
  {
   "cell_type": "markdown",
   "metadata": {},
   "source": [
    "We can see that there is a difference in variables `DEMAND.LOSS.MW` and `OUTAGE.DURATION` between the outages that are caused by severe weather and the outages that are not. Therefore, it turns out that these two variables is worth including in our model."
   ]
  },
  {
   "cell_type": "markdown",
   "metadata": {},
   "source": [
    "- As we verified `DEMAND.LOSS.MW` and `OUTAGE.DURATION` can be included in our model, we will use `MONTH`, `CLIMATE.REGION`, `ANOMALY.LEVEL`, `CLIMATE.CATEGORY`, `CUSTOMERS.AFFECTED`, `DEMAND.LOSS.MW`, `OUTAGE.DURATION` for our prediction model. \n",
    "- There are total 7 features. `ANOMALY.LEVEL`, `CUSTOMERS.AFFECTED`, `DEMAND.LOSS.MW`, `OUTAGE.DURATION` are quantitative, `CLIMATE.REGION`, `CLIMATE.CATEGORY` and `MONTH` are nominal. \n",
    "    - Note that `MONTH` here is a nominal variable since there are different years in this data set. We cannnot say that 2007-01 is preceding 2006-03, although 3 is larger than 1. So, we treat month as a nomial variable."
   ]
  },
  {
   "cell_type": "code",
   "execution_count": 60,
   "metadata": {},
   "outputs": [
    {
     "data": {
      "text/html": [
       "<div>\n",
       "<style scoped>\n",
       "    .dataframe tbody tr th:only-of-type {\n",
       "        vertical-align: middle;\n",
       "    }\n",
       "\n",
       "    .dataframe tbody tr th {\n",
       "        vertical-align: top;\n",
       "    }\n",
       "\n",
       "    .dataframe thead th {\n",
       "        text-align: right;\n",
       "    }\n",
       "</style>\n",
       "<table border=\"1\" class=\"dataframe\">\n",
       "  <thead>\n",
       "    <tr style=\"text-align: right;\">\n",
       "      <th></th>\n",
       "      <th>MONTH</th>\n",
       "      <th>CLIMATE.REGION</th>\n",
       "      <th>CLIMATE.CATEGORY</th>\n",
       "      <th>ANOMALY.LEVEL</th>\n",
       "      <th>CUSTOMERS.AFFECTED</th>\n",
       "      <th>DEMAND.LOSS.MW</th>\n",
       "      <th>OUTAGE.DURATION</th>\n",
       "      <th>CAUSE.CATEGORY</th>\n",
       "    </tr>\n",
       "  </thead>\n",
       "  <tbody>\n",
       "    <tr>\n",
       "      <th>0</th>\n",
       "      <td>7</td>\n",
       "      <td>East North Central</td>\n",
       "      <td>normal</td>\n",
       "      <td>-0.3</td>\n",
       "      <td>70000</td>\n",
       "      <td>NaN</td>\n",
       "      <td>3060</td>\n",
       "      <td>severe weather</td>\n",
       "    </tr>\n",
       "    <tr>\n",
       "      <th>1</th>\n",
       "      <td>5</td>\n",
       "      <td>East North Central</td>\n",
       "      <td>normal</td>\n",
       "      <td>-0.1</td>\n",
       "      <td>NaN</td>\n",
       "      <td>NaN</td>\n",
       "      <td>1</td>\n",
       "      <td>intentional attack</td>\n",
       "    </tr>\n",
       "    <tr>\n",
       "      <th>2</th>\n",
       "      <td>10</td>\n",
       "      <td>East North Central</td>\n",
       "      <td>cold</td>\n",
       "      <td>-1.5</td>\n",
       "      <td>70000</td>\n",
       "      <td>NaN</td>\n",
       "      <td>3000</td>\n",
       "      <td>severe weather</td>\n",
       "    </tr>\n",
       "    <tr>\n",
       "      <th>3</th>\n",
       "      <td>6</td>\n",
       "      <td>East North Central</td>\n",
       "      <td>normal</td>\n",
       "      <td>-0.1</td>\n",
       "      <td>68200</td>\n",
       "      <td>NaN</td>\n",
       "      <td>2550</td>\n",
       "      <td>severe weather</td>\n",
       "    </tr>\n",
       "    <tr>\n",
       "      <th>4</th>\n",
       "      <td>7</td>\n",
       "      <td>East North Central</td>\n",
       "      <td>warm</td>\n",
       "      <td>1.2</td>\n",
       "      <td>250000</td>\n",
       "      <td>250</td>\n",
       "      <td>1740</td>\n",
       "      <td>severe weather</td>\n",
       "    </tr>\n",
       "  </tbody>\n",
       "</table>\n",
       "</div>"
      ],
      "text/plain": [
       "  MONTH      CLIMATE.REGION CLIMATE.CATEGORY ANOMALY.LEVEL CUSTOMERS.AFFECTED  \\\n",
       "0     7  East North Central           normal          -0.3              70000   \n",
       "1     5  East North Central           normal          -0.1                NaN   \n",
       "2    10  East North Central             cold          -1.5              70000   \n",
       "3     6  East North Central           normal          -0.1              68200   \n",
       "4     7  East North Central             warm           1.2             250000   \n",
       "\n",
       "  DEMAND.LOSS.MW OUTAGE.DURATION      CAUSE.CATEGORY  \n",
       "0            NaN            3060      severe weather  \n",
       "1            NaN               1  intentional attack  \n",
       "2            NaN            3000      severe weather  \n",
       "3            NaN            2550      severe weather  \n",
       "4            250            1740      severe weather  "
      ]
     },
     "execution_count": 60,
     "metadata": {},
     "output_type": "execute_result"
    }
   ],
   "source": [
    "# For simplicity, we extract the columns that we mentioned above into a new dataframe\n",
    "df4 = df2[[\"MONTH\", \"CLIMATE.REGION\", \"CLIMATE.CATEGORY\", \"ANOMALY.LEVEL\", \"CUSTOMERS.AFFECTED\", \"DEMAND.LOSS.MW\", \"OUTAGE.DURATION\", \"CAUSE.CATEGORY\"]]\n",
    "\n",
    "# df4 is the new simplified dataframe\n",
    "df4.head()"
   ]
  },
  {
   "cell_type": "markdown",
   "metadata": {},
   "source": [
    "Next, we do type conversion on certain variables and change the `CAUSE.CATEGORY` to binary variable"
   ]
  },
  {
   "cell_type": "code",
   "execution_count": 61,
   "metadata": {
    "collapsed": true,
    "jupyter": {
     "outputs_hidden": true
    }
   },
   "outputs": [
    {
     "data": {
      "text/html": [
       "<div>\n",
       "<style scoped>\n",
       "    .dataframe tbody tr th:only-of-type {\n",
       "        vertical-align: middle;\n",
       "    }\n",
       "\n",
       "    .dataframe tbody tr th {\n",
       "        vertical-align: top;\n",
       "    }\n",
       "\n",
       "    .dataframe thead th {\n",
       "        text-align: right;\n",
       "    }\n",
       "</style>\n",
       "<table border=\"1\" class=\"dataframe\">\n",
       "  <thead>\n",
       "    <tr style=\"text-align: right;\">\n",
       "      <th></th>\n",
       "      <th>MONTH</th>\n",
       "      <th>CLIMATE.REGION</th>\n",
       "      <th>CLIMATE.CATEGORY</th>\n",
       "      <th>ANOMALY.LEVEL</th>\n",
       "      <th>CUSTOMERS.AFFECTED</th>\n",
       "      <th>DEMAND.LOSS.MW</th>\n",
       "      <th>OUTAGE.DURATION</th>\n",
       "      <th>CAUSE.CATEGORY</th>\n",
       "    </tr>\n",
       "  </thead>\n",
       "  <tbody>\n",
       "    <tr>\n",
       "      <th>0</th>\n",
       "      <td>7</td>\n",
       "      <td>East North Central</td>\n",
       "      <td>normal</td>\n",
       "      <td>-0.3</td>\n",
       "      <td>70000.0</td>\n",
       "      <td>NaN</td>\n",
       "      <td>3060.0</td>\n",
       "      <td>1</td>\n",
       "    </tr>\n",
       "    <tr>\n",
       "      <th>1</th>\n",
       "      <td>5</td>\n",
       "      <td>East North Central</td>\n",
       "      <td>normal</td>\n",
       "      <td>-0.1</td>\n",
       "      <td>NaN</td>\n",
       "      <td>NaN</td>\n",
       "      <td>1.0</td>\n",
       "      <td>0</td>\n",
       "    </tr>\n",
       "    <tr>\n",
       "      <th>2</th>\n",
       "      <td>10</td>\n",
       "      <td>East North Central</td>\n",
       "      <td>cold</td>\n",
       "      <td>-1.5</td>\n",
       "      <td>70000.0</td>\n",
       "      <td>NaN</td>\n",
       "      <td>3000.0</td>\n",
       "      <td>1</td>\n",
       "    </tr>\n",
       "    <tr>\n",
       "      <th>3</th>\n",
       "      <td>6</td>\n",
       "      <td>East North Central</td>\n",
       "      <td>normal</td>\n",
       "      <td>-0.1</td>\n",
       "      <td>68200.0</td>\n",
       "      <td>NaN</td>\n",
       "      <td>2550.0</td>\n",
       "      <td>1</td>\n",
       "    </tr>\n",
       "    <tr>\n",
       "      <th>4</th>\n",
       "      <td>7</td>\n",
       "      <td>East North Central</td>\n",
       "      <td>warm</td>\n",
       "      <td>1.2</td>\n",
       "      <td>250000.0</td>\n",
       "      <td>250.0</td>\n",
       "      <td>1740.0</td>\n",
       "      <td>1</td>\n",
       "    </tr>\n",
       "  </tbody>\n",
       "</table>\n",
       "</div>"
      ],
      "text/plain": [
       "  MONTH      CLIMATE.REGION CLIMATE.CATEGORY  ANOMALY.LEVEL  \\\n",
       "0     7  East North Central           normal           -0.3   \n",
       "1     5  East North Central           normal           -0.1   \n",
       "2    10  East North Central             cold           -1.5   \n",
       "3     6  East North Central           normal           -0.1   \n",
       "4     7  East North Central             warm            1.2   \n",
       "\n",
       "   CUSTOMERS.AFFECTED  DEMAND.LOSS.MW  OUTAGE.DURATION  CAUSE.CATEGORY  \n",
       "0             70000.0             NaN           3060.0               1  \n",
       "1                 NaN             NaN              1.0               0  \n",
       "2             70000.0             NaN           3000.0               1  \n",
       "3             68200.0             NaN           2550.0               1  \n",
       "4            250000.0           250.0           1740.0               1  "
      ]
     },
     "execution_count": 61,
     "metadata": {},
     "output_type": "execute_result"
    }
   ],
   "source": [
    "# type conversion on \"DEMAND.LOSS.MW\", \"OUTAGE.DURATION\", \"CUSTOMERS.AFFECTED\" and \"ANOMALY.LEVEL\"\n",
    "df4[\"DEMAND.LOSS.MW\"] = df4[\"DEMAND.LOSS.MW\"].astype(np.float64)\n",
    "df4[\"OUTAGE.DURATION\"] = df4[\"OUTAGE.DURATION\"].astype(np.float64)\n",
    "df4[\"CUSTOMERS.AFFECTED\"] = df4[\"CUSTOMERS.AFFECTED\"].astype(np.float64)\n",
    "df4[\"ANOMALY.LEVEL\"] = df4[\"ANOMALY.LEVEL\"].astype(np.float64)\n",
    "\n",
    "# change the \"CAUSE.CATEGORY\" to binary variable\n",
    "df4[\"CAUSE.CATEGORY\"] = (df4[\"CAUSE.CATEGORY\"] == \"severe weather\").replace({True:1, False:0})\n",
    "\n",
    "# This is the resulted dataframe after type conversion and change on \"CAUSE.CATEGORY\"\n",
    "df4.head()"
   ]
  },
  {
   "cell_type": "code",
   "execution_count": 62,
   "metadata": {},
   "outputs": [
    {
     "data": {
      "text/plain": [
       "0.4973924380704042"
      ]
     },
     "execution_count": 62,
     "metadata": {},
     "output_type": "execute_result"
    }
   ],
   "source": [
    "# Compute the proportion of group that are caused by severe weather\n",
    "np.mean(df4[\"CAUSE.CATEGORY\"])"
   ]
  },
  {
   "cell_type": "markdown",
   "metadata": {},
   "source": [
    "The result is approximately 0.497. Since we have positive and negative group almost the same proportion, we can use accuracy as our objective"
   ]
  },
  {
   "cell_type": "code",
   "execution_count": 63,
   "metadata": {},
   "outputs": [
    {
     "data": {
      "text/plain": [
       "MONTH                 0.005867\n",
       "CLIMATE.REGION        0.003911\n",
       "CLIMATE.CATEGORY      0.005867\n",
       "ANOMALY.LEVEL         0.005867\n",
       "CUSTOMERS.AFFECTED    0.288787\n",
       "DEMAND.LOSS.MW        0.459583\n",
       "OUTAGE.DURATION       0.037810\n",
       "CAUSE.CATEGORY        0.000000\n",
       "dtype: float64"
      ]
     },
     "execution_count": 63,
     "metadata": {},
     "output_type": "execute_result"
    }
   ],
   "source": [
    "# Check if there are null values in \"CAUSE.CATEGORY\"\n",
    "pd.isnull(df4).mean()"
   ]
  },
  {
   "cell_type": "markdown",
   "metadata": {},
   "source": [
    "There is no null values in column `CAUSE.CATEGORY `. Then, we will do train test split."
   ]
  },
  {
   "cell_type": "code",
   "execution_count": 64,
   "metadata": {},
   "outputs": [],
   "source": [
    "# Conduct the train test split on our dataframe\n",
    "X = df4.drop(\"CAUSE.CATEGORY\", axis=1)\n",
    "y = df4[\"CAUSE.CATEGORY\"]\n",
    "X_train, X_test, y_train, y_test = train_test_split(X, y, test_size=0.25)"
   ]
  },
  {
   "cell_type": "markdown",
   "metadata": {},
   "source": [
    "Now, let's build the pipeline.\n",
    "We will use SimpleImputer to deal with nan value. We impute categorical variable by most frequent value and quantitative variable by mean. It's not strange to fill categorical value with the most frequent value, since the missingness proportion is very small. It is also reasonable to fill quantitative variable with mean, since there is no clear missing reason or pattern."
   ]
  },
  {
   "cell_type": "code",
   "execution_count": 65,
   "metadata": {},
   "outputs": [],
   "source": [
    "# Build a pipeline\n",
    "\n",
    "# Categorical features\n",
    "# do onehot encoding for categorical features\n",
    "cat_feat = [\"CLIMATE.REGION\", \"CLIMATE.CATEGORY\", \"MONTH\"]\n",
    "cat_filler = SimpleImputer(strategy = \"most_frequent\")\n",
    "cat_transformer = Pipeline(steps=[\n",
    "    (\"fill_onehot_nan\", cat_filler),\n",
    "    (\"one_hot\", OneHotEncoder(handle_unknown = \"ignore\"))\n",
    "])\n",
    "\n",
    "# Numerical features\n",
    "num_feat = [\"ANOMALY.LEVEL\", \"CUSTOMERS.AFFECTED\", \"DEMAND.LOSS.MW\", \"OUTAGE.DURATION\"]\n",
    "num_filler = SimpleImputer(strategy = \"mean\")\n",
    "num_transformer = Pipeline(steps=[\n",
    "    (\"fill_num_nan\", num_filler)\n",
    "])\n",
    "\n",
    "col_trans1 = ColumnTransformer(\n",
    "    transformers=[\n",
    "        (\"cat\", cat_transformer, cat_feat),\n",
    "        (\"num\", num_transformer, num_feat)\n",
    "    ])\n",
    "\n",
    "# pl is the resulted pipeline\n",
    "pl = Pipeline([(\"col_transformer\", col_trans1), (\"classifier\", DecisionTreeClassifier())])"
   ]
  },
  {
   "cell_type": "code",
   "execution_count": 66,
   "metadata": {},
   "outputs": [
    {
     "data": {
      "text/plain": [
       "Pipeline(steps=[('col_transformer',\n",
       "                 ColumnTransformer(transformers=[('cat',\n",
       "                                                  Pipeline(steps=[('fill_onehot_nan',\n",
       "                                                                   SimpleImputer(strategy='most_frequent')),\n",
       "                                                                  ('one_hot',\n",
       "                                                                   OneHotEncoder(handle_unknown='ignore'))]),\n",
       "                                                  ['CLIMATE.REGION',\n",
       "                                                   'CLIMATE.CATEGORY',\n",
       "                                                   'MONTH']),\n",
       "                                                 ('num',\n",
       "                                                  Pipeline(steps=[('fill_num_nan',\n",
       "                                                                   SimpleImputer())]),\n",
       "                                                  ['ANOMALY.LEVEL',\n",
       "                                                   'CUSTOMERS.AFFECTED',\n",
       "                                                   'DEMAND.LOSS.MW',\n",
       "                                                   'OUTAGE.DURATION'])])),\n",
       "                ('classifier', DecisionTreeClassifier())])"
      ]
     },
     "execution_count": 66,
     "metadata": {},
     "output_type": "execute_result"
    }
   ],
   "source": [
    "# fit the pipeline with train data\n",
    "pl.fit(X_train, y_train)"
   ]
  },
  {
   "cell_type": "code",
   "execution_count": 67,
   "metadata": {},
   "outputs": [],
   "source": [
    "# using the model we get, obtain the prediction of the test data\n",
    "prediction = pl.predict(X_test)"
   ]
  },
  {
   "cell_type": "code",
   "execution_count": 68,
   "metadata": {},
   "outputs": [
    {
     "data": {
      "text/plain": [
       "0.8411458333333334"
      ]
     },
     "execution_count": 68,
     "metadata": {},
     "output_type": "execute_result"
    }
   ],
   "source": [
    "# find the accuracy score of this model\n",
    "metrics.accuracy_score(y_test, prediction)"
   ]
  },
  {
   "cell_type": "markdown",
   "metadata": {},
   "source": [
    "From the result, we get an accuracy of 84.1%, which is not bad, but we still want to increase the accuracy by conducting some feature engerineering."
   ]
  },
  {
   "cell_type": "markdown",
   "metadata": {},
   "source": [
    "We guess that bining `DEMAND.LOSS.MW` level might help to increase our test accuracy. Since we use mean imputation to impute the missing value, binning can help us differentiate these value and increase our prediction accuracy."
   ]
  },
  {
   "cell_type": "code",
   "execution_count": 69,
   "metadata": {},
   "outputs": [],
   "source": [
    "# generate two separate graphs when \"CAUSE.CATEGORY\" equal to 1 and 0, separately\n",
    "df41 = df4[df4[\"CAUSE.CATEGORY\"] == 1]\n",
    "df40 = df4[df4[\"CAUSE.CATEGORY\"] == 0]"
   ]
  },
  {
   "cell_type": "code",
   "execution_count": 70,
   "metadata": {},
   "outputs": [
    {
     "data": {
      "text/plain": [
       "<AxesSubplot:ylabel='Frequency'>"
      ]
     },
     "execution_count": 70,
     "metadata": {},
     "output_type": "execute_result"
    },
    {
     "data": {
      "image/png": "[encoded data removed]",
      "text/plain": [
       "<Figure size 432x288 with 1 Axes>"
      ]
     },
     "metadata": {
      "image/png": {
       "height": 248,
       "width": 388
      },
      "needs_background": "light"
     },
     "output_type": "display_data"
    }
   ],
   "source": [
    "# draw a histogram of the frequency of value of \"DEMAND.LOSS.MW\" under condition that \"CAUSE.CATEGORY\" equal to 0\n",
    "df40[\"DEMAND.LOSS.MW\"].plot(kind = \"hist\")"
   ]
  },
  {
   "cell_type": "code",
   "execution_count": 71,
   "metadata": {},
   "outputs": [
    {
     "data": {
      "text/plain": [
       "<AxesSubplot:ylabel='Frequency'>"
      ]
     },
     "execution_count": 71,
     "metadata": {},
     "output_type": "execute_result"
    },
    {
     "data": {
      "image/png": "[encoded data removed]",
      "text/plain": [
       "<Figure size 432x288 with 1 Axes>"
      ]
     },
     "metadata": {
      "image/png": {
       "height": 248,
       "width": 388
      },
      "needs_background": "light"
     },
     "output_type": "display_data"
    }
   ],
   "source": [
    "# draw a histogram of the frequency of value of \"DEMAND.LOSS.MW\" under condition that \"CAUSE.CATEGORY\" equal to 1\n",
    "df41[\"DEMAND.LOSS.MW\"].plot(kind = \"hist\")"
   ]
  },
  {
   "cell_type": "code",
   "execution_count": 72,
   "metadata": {},
   "outputs": [],
   "source": [
    "# Build another pipeline with bining \"DEMAND.LOSS.MW\", and other variables remain the same\n",
    "# Categorical features\n",
    "cat_feat = [\"CLIMATE.REGION\", \"CLIMATE.CATEGORY\", \"MONTH\"]\n",
    "cat_filler = SimpleImputer(strategy = \"most_frequent\")\n",
    "cat_transformer = Pipeline(steps=[\n",
    "    (\"fill_onehot_nan\", cat_filler),\n",
    "    (\"one_hot\", OneHotEncoder(handle_unknown = \"ignore\"))\n",
    "])\n",
    "\n",
    "# Numerical features\n",
    "num_feat = [\"CUSTOMERS.AFFECTED\", \"OUTAGE.DURATION\", \"ANOMALY.LEVEL\"]\n",
    "num_filler = SimpleImputer(strategy = \"mean\")\n",
    "num_transformer = Pipeline(steps=[\n",
    "    (\"fill_num_nan\", num_filler)\n",
    "])\n",
    "\n",
    "# Added -- bining \"DEMAND.LOSS.MW\"\n",
    "bins_feat = [\"DEMAND.LOSS.MW\"]\n",
    "bins_transformer = Pipeline(steps=[\n",
    "    (\"fill_num_nan\", num_filler), \n",
    "    (\"bin\", KBinsDiscretizer(n_bins=15, encode='onehot', strategy='uniform')),\n",
    "])\n",
    "\n",
    "col_trans2 = ColumnTransformer(\n",
    "    transformers=[\n",
    "        (\"cat\", cat_transformer, cat_feat),\n",
    "        (\"num\", num_transformer, num_feat),\n",
    "        (\"bins\", bins_transformer, bins_feat)\n",
    "    ])\n",
    "\n",
    "# This is the resulted pipeline\n",
    "pl1 = Pipeline([(\"col_transformer\", col_trans2), (\"classifier\", DecisionTreeClassifier())])"
   ]
  },
  {
   "cell_type": "code",
   "execution_count": 73,
   "metadata": {},
   "outputs": [
    {
     "data": {
      "text/plain": [
       "Pipeline(steps=[('col_transformer',\n",
       "                 ColumnTransformer(transformers=[('cat',\n",
       "                                                  Pipeline(steps=[('fill_onehot_nan',\n",
       "                                                                   SimpleImputer(strategy='most_frequent')),\n",
       "                                                                  ('one_hot',\n",
       "                                                                   OneHotEncoder(handle_unknown='ignore'))]),\n",
       "                                                  ['CLIMATE.REGION',\n",
       "                                                   'CLIMATE.CATEGORY',\n",
       "                                                   'MONTH']),\n",
       "                                                 ('num',\n",
       "                                                  Pipeline(steps=[('fill_num_nan',\n",
       "                                                                   SimpleImputer())]),\n",
       "                                                  ['CUSTOMERS.AFFECTED',\n",
       "                                                   'OUTAGE.DURATION',\n",
       "                                                   'ANOMALY.LEVEL']),\n",
       "                                                 ('bins',\n",
       "                                                  Pipeline(steps=[('fill_num_nan',\n",
       "                                                                   SimpleImputer()),\n",
       "                                                                  ('bin',\n",
       "                                                                   KBinsDiscretizer(n_bins=15,\n",
       "                                                                                    strategy='uniform'))]),\n",
       "                                                  ['DEMAND.LOSS.MW'])])),\n",
       "                ('classifier', DecisionTreeClassifier())])"
      ]
     },
     "execution_count": 73,
     "metadata": {},
     "output_type": "execute_result"
    }
   ],
   "source": [
    "# fit the pipeline with train data\n",
    "pl1.fit(X_train, y_train)"
   ]
  },
  {
   "cell_type": "code",
   "execution_count": 74,
   "metadata": {},
   "outputs": [],
   "source": [
    "# using the model we get, obtain the prediction of the test data\n",
    "prediction1 = pl1.predict(X_test)"
   ]
  },
  {
   "cell_type": "code",
   "execution_count": 75,
   "metadata": {},
   "outputs": [
    {
     "data": {
      "text/plain": [
       "0.8515625"
      ]
     },
     "execution_count": 75,
     "metadata": {},
     "output_type": "execute_result"
    }
   ],
   "source": [
    "# find the accuracy score of this model\n",
    "metrics.accuracy_score(y_test, prediction1)"
   ]
  },
  {
   "cell_type": "markdown",
   "metadata": {},
   "source": [
    "Our accuracy increases from 84.1% to 85.2%. That is pretty nice."
   ]
  },
  {
   "cell_type": "markdown",
   "metadata": {},
   "source": [
    "We also guess that square root transform of `CUSTOMERS.AFFECTED` will help our prediction to be more accurate, since the distribution of `CUSTOMER.AFFECTED` is greatly skewed to the right."
   ]
  },
  {
   "cell_type": "code",
   "execution_count": 76,
   "metadata": {},
   "outputs": [
    {
     "data": {
      "text/plain": [
       "<AxesSubplot:ylabel='Frequency'>"
      ]
     },
     "execution_count": 76,
     "metadata": {},
     "output_type": "execute_result"
    },
    {
     "data": {
      "image/png": "[encoded data removed]",
      "text/plain": [
       "<Figure size 432x288 with 1 Axes>"
      ]
     },
     "metadata": {
      "image/png": {
       "height": 260,
       "width": 388
      },
      "needs_background": "light"
     },
     "output_type": "display_data"
    }
   ],
   "source": [
    "# draw a histogram of the frequency of value of \"CUSTOMERS.AFFECTED\" under condition that \"CAUSE.CATEGORY\" equal to 0\n",
    "df40[\"CUSTOMERS.AFFECTED\"].plot(kind = \"hist\")"
   ]
  },
  {
   "cell_type": "code",
   "execution_count": 77,
   "metadata": {},
   "outputs": [
    {
     "data": {
      "text/plain": [
       "<AxesSubplot:ylabel='Frequency'>"
      ]
     },
     "execution_count": 77,
     "metadata": {},
     "output_type": "execute_result"
    },
    {
     "data": {
      "image/png": "[encoded data removed]",
      "text/plain": [
       "<Figure size 432x288 with 1 Axes>"
      ]
     },
     "metadata": {
      "image/png": {
       "height": 260,
       "width": 388
      },
      "needs_background": "light"
     },
     "output_type": "display_data"
    }
   ],
   "source": [
    "# draw a histogram of the frequency of value of \"CUSTOMERS.AFFECTED\" under condition that \"CAUSE.CATEGORY\" equal to 0\n",
    "df41[\"CUSTOMERS.AFFECTED\"].plot(kind = \"hist\")"
   ]
  },
  {
   "cell_type": "markdown",
   "metadata": {},
   "source": [
    "From the two graphs, we can see that the graph of `CUSTOMERS.AFFECTED` is skewed to the right. So we use the square root transform of `CUSTOMERS.AFFECTED` in our new model."
   ]
  },
  {
   "cell_type": "code",
   "execution_count": 82,
   "metadata": {},
   "outputs": [],
   "source": [
    "# Build another pipeline with bining \"DEMAND.LOSS.MW\" and transforming \"CUSTOMERS.AFFECTED\" to square root,\n",
    "# and other variables remain the same\n",
    "\n",
    "# Categorical features\n",
    "cat_feat = [\"CLIMATE.REGION\", \"CLIMATE.CATEGORY\", \"MONTH\"]\n",
    "cat_filler = SimpleImputer(strategy = \"most_frequent\")\n",
    "cat_transformer = Pipeline(steps=[\n",
    "    (\"fill_onehot_nan\", cat_filler),\n",
    "    (\"one_hot\", OneHotEncoder(handle_unknown = \"ignore\"))\n",
    "])\n",
    "\n",
    "# Numerical features\n",
    "num_feat = [\"ANOMALY.LEVEL\", \"OUTAGE.DURATION\"]\n",
    "num_filler = SimpleImputer(strategy = \"mean\")\n",
    "num_transformer = Pipeline(steps=[\n",
    "    (\"fill_num_nan\", num_filler)\n",
    "])\n",
    "\n",
    "# Bining \"DEMAND.LOSS.MW\"\n",
    "bins_feat = [\"DEMAND.LOSS.MW\"]\n",
    "bins_transformer = Pipeline(steps=[\n",
    "    (\"fill_num_nan\", num_filler), \n",
    "    (\"bin\", KBinsDiscretizer(n_bins=15, encode='onehot', strategy='uniform')),\n",
    "])\n",
    "\n",
    "# Added -- square root of \"CUSTOMERS.AFFECTED\"\n",
    "cus_feat = [\"CUSTOMERS.AFFECTED\"]\n",
    "cus_transformer = Pipeline(steps=[\n",
    "    (\"fill_num_nan\", num_filler), \n",
    "    (\"log\", FunctionTransformer(lambda x: x**0.5, validate = False))\n",
    "])\n",
    "\n",
    "col_trans3 = ColumnTransformer(\n",
    "    transformers=[\n",
    "        (\"cus\", cus_transformer, cus_feat),\n",
    "        (\"cat\", cat_transformer, cat_feat),\n",
    "        (\"num\", num_transformer, num_feat),\n",
    "        (\"bins\", bins_transformer, bins_feat)\n",
    "    ])\n",
    "\n",
    "# This is the resulted pipeline\n",
    "pl2 = Pipeline([(\"col_transformer\", col_trans3), (\"classifier\", DecisionTreeClassifier())])"
   ]
  },
  {
   "cell_type": "code",
   "execution_count": 83,
   "metadata": {},
   "outputs": [
    {
     "data": {
      "text/plain": [
       "Pipeline(steps=[('col_transformer',\n",
       "                 ColumnTransformer(transformers=[('cus',\n",
       "                                                  Pipeline(steps=[('fill_num_nan',\n",
       "                                                                   SimpleImputer()),\n",
       "                                                                  ('log',\n",
       "                                                                   FunctionTransformer(func=<function <lambda> at 0x7f87b2f57280>))]),\n",
       "                                                  ['CUSTOMERS.AFFECTED']),\n",
       "                                                 ('cat',\n",
       "                                                  Pipeline(steps=[('fill_onehot_nan',\n",
       "                                                                   SimpleImputer(strategy='most_frequent')),\n",
       "                                                                  ('one_hot',\n",
       "                                                                   OneHotEncoder(handle_unknown='ignore'))]),\n",
       "                                                  ['CLIMATE.REGION',\n",
       "                                                   'CLIMATE.CATEGORY',\n",
       "                                                   'MONTH']),\n",
       "                                                 ('num',\n",
       "                                                  Pipeline(steps=[('fill_num_nan',\n",
       "                                                                   SimpleImputer())]),\n",
       "                                                  ['ANOMALY.LEVEL',\n",
       "                                                   'OUTAGE.DURATION']),\n",
       "                                                 ('bins',\n",
       "                                                  Pipeline(steps=[('fill_num_nan',\n",
       "                                                                   SimpleImputer()),\n",
       "                                                                  ('bin',\n",
       "                                                                   KBinsDiscretizer(n_bins=15,\n",
       "                                                                                    strategy='uniform'))]),\n",
       "                                                  ['DEMAND.LOSS.MW'])])),\n",
       "                ('classifier', DecisionTreeClassifier())])"
      ]
     },
     "execution_count": 83,
     "metadata": {},
     "output_type": "execute_result"
    }
   ],
   "source": [
    "# fit the pipeline with train data\n",
    "pl2.fit(X_train, y_train)"
   ]
  },
  {
   "cell_type": "code",
   "execution_count": 84,
   "metadata": {},
   "outputs": [],
   "source": [
    "# using the model we get, obtain the prediction of the test data\n",
    "prediction2 = pl2.predict(X_test)"
   ]
  },
  {
   "cell_type": "code",
   "execution_count": 85,
   "metadata": {},
   "outputs": [
    {
     "data": {
      "text/plain": [
       "0.8723958333333334"
      ]
     },
     "execution_count": 85,
     "metadata": {},
     "output_type": "execute_result"
    }
   ],
   "source": [
    "# find the accuracy score of this model\n",
    "metrics.accuracy_score(y_test, prediction2)"
   ]
  },
  {
   "cell_type": "markdown",
   "metadata": {},
   "source": [
    "Our accuracy increases from 85.2% to 87.2%. That is pretty nice."
   ]
  },
  {
   "cell_type": "markdown",
   "metadata": {},
   "source": [
    "Next, we look on our decision tree to get the best parameter of the depth of tree using a for loop to generate accuracy of the model on different depth."
   ]
  },
  {
   "cell_type": "code",
   "execution_count": 112,
   "metadata": {},
   "outputs": [],
   "source": [
    "accu = []\n",
    "indices = []\n",
    "for i in range(1, 21):\n",
    "    # A new pipeline that used the improved model but using different max_depth\n",
    "    pl3 = Pipeline([(\"col_transformer\", col_trans3), (\"classifier\", DecisionTreeClassifier(max_depth=i))])\n",
    "    \n",
    "    # this is the same process as we do the pipeline before\n",
    "    pl3.fit(X_train, y_train)\n",
    "    prediction_p = pl3.predict(X_test)\n",
    "    accuracy = metrics.accuracy_score(y_test, prediction_p)\n",
    "    accu.append(accuracy)\n",
    "    indices.append(i)\n",
    "\n",
    "# combine the accuracy results and the value of max_depth\n",
    "df_para = pd.DataFrame({\"indices\":indices, \"accuracy\":accu}).set_index(\"indices\")"
   ]
  },
  {
   "cell_type": "code",
   "execution_count": 113,
   "metadata": {},
   "outputs": [
    {
     "data": {
      "text/html": [
       "<div>\n",
       "<style scoped>\n",
       "    .dataframe tbody tr th:only-of-type {\n",
       "        vertical-align: middle;\n",
       "    }\n",
       "\n",
       "    .dataframe tbody tr th {\n",
       "        vertical-align: top;\n",
       "    }\n",
       "\n",
       "    .dataframe thead th {\n",
       "        text-align: right;\n",
       "    }\n",
       "</style>\n",
       "<table border=\"1\" class=\"dataframe\">\n",
       "  <thead>\n",
       "    <tr style=\"text-align: right;\">\n",
       "      <th></th>\n",
       "      <th>accuracy</th>\n",
       "    </tr>\n",
       "    <tr>\n",
       "      <th>indices</th>\n",
       "      <th></th>\n",
       "    </tr>\n",
       "  </thead>\n",
       "  <tbody>\n",
       "    <tr>\n",
       "      <th>1</th>\n",
       "      <td>0.770833</td>\n",
       "    </tr>\n",
       "    <tr>\n",
       "      <th>2</th>\n",
       "      <td>0.796875</td>\n",
       "    </tr>\n",
       "    <tr>\n",
       "      <th>3</th>\n",
       "      <td>0.825521</td>\n",
       "    </tr>\n",
       "    <tr>\n",
       "      <th>4</th>\n",
       "      <td>0.903646</td>\n",
       "    </tr>\n",
       "    <tr>\n",
       "      <th>5</th>\n",
       "      <td>0.893229</td>\n",
       "    </tr>\n",
       "    <tr>\n",
       "      <th>6</th>\n",
       "      <td>0.885417</td>\n",
       "    </tr>\n",
       "    <tr>\n",
       "      <th>7</th>\n",
       "      <td>0.877604</td>\n",
       "    </tr>\n",
       "    <tr>\n",
       "      <th>8</th>\n",
       "      <td>0.877604</td>\n",
       "    </tr>\n",
       "    <tr>\n",
       "      <th>9</th>\n",
       "      <td>0.867188</td>\n",
       "    </tr>\n",
       "    <tr>\n",
       "      <th>10</th>\n",
       "      <td>0.859375</td>\n",
       "    </tr>\n",
       "    <tr>\n",
       "      <th>11</th>\n",
       "      <td>0.859375</td>\n",
       "    </tr>\n",
       "    <tr>\n",
       "      <th>12</th>\n",
       "      <td>0.856771</td>\n",
       "    </tr>\n",
       "    <tr>\n",
       "      <th>13</th>\n",
       "      <td>0.869792</td>\n",
       "    </tr>\n",
       "    <tr>\n",
       "      <th>14</th>\n",
       "      <td>0.851562</td>\n",
       "    </tr>\n",
       "    <tr>\n",
       "      <th>15</th>\n",
       "      <td>0.856771</td>\n",
       "    </tr>\n",
       "    <tr>\n",
       "      <th>16</th>\n",
       "      <td>0.851562</td>\n",
       "    </tr>\n",
       "    <tr>\n",
       "      <th>17</th>\n",
       "      <td>0.856771</td>\n",
       "    </tr>\n",
       "    <tr>\n",
       "      <th>18</th>\n",
       "      <td>0.851562</td>\n",
       "    </tr>\n",
       "    <tr>\n",
       "      <th>19</th>\n",
       "      <td>0.851562</td>\n",
       "    </tr>\n",
       "    <tr>\n",
       "      <th>20</th>\n",
       "      <td>0.861979</td>\n",
       "    </tr>\n",
       "  </tbody>\n",
       "</table>\n",
       "</div>"
      ],
      "text/plain": [
       "         accuracy\n",
       "indices          \n",
       "1        0.770833\n",
       "2        0.796875\n",
       "3        0.825521\n",
       "4        0.903646\n",
       "5        0.893229\n",
       "6        0.885417\n",
       "7        0.877604\n",
       "8        0.877604\n",
       "9        0.867188\n",
       "10       0.859375\n",
       "11       0.859375\n",
       "12       0.856771\n",
       "13       0.869792\n",
       "14       0.851562\n",
       "15       0.856771\n",
       "16       0.851562\n",
       "17       0.856771\n",
       "18       0.851562\n",
       "19       0.851562\n",
       "20       0.861979"
      ]
     },
     "execution_count": 113,
     "metadata": {},
     "output_type": "execute_result"
    }
   ],
   "source": [
    "# resulted dataframe\n",
    "df_para"
   ]
  },
  {
   "cell_type": "code",
   "execution_count": 120,
   "metadata": {},
   "outputs": [
    {
     "data": {
      "text/plain": [
       "4"
      ]
     },
     "execution_count": 120,
     "metadata": {},
     "output_type": "execute_result"
    }
   ],
   "source": [
    "# find the depth of maximum accuracy in the dataframe\n",
    "df_para['accuracy'].idxmax()"
   ]
  },
  {
   "cell_type": "markdown",
   "metadata": {},
   "source": [
    "Therefore, we conclude that the best parameter is 4 in our improved model, and the max accuracy is 0.903646"
   ]
  },
  {
   "cell_type": "markdown",
   "metadata": {},
   "source": [
    "### Final Model"
   ]
  },
  {
   "cell_type": "markdown",
   "metadata": {},
   "source": [
    "Therefore, we conclude that our final model is the model that invovles 7 features, which are `MONTH`, `CLIMATE.REGION`, `ANOMALY.LEVEL`, `CLIMATE.CATEGORY`, square root of\n",
    "`CUSTOMERS.AFFECTED`, bining `DEMAND.LOSS.MW`, `OUTAGE.DURATION` for our prediction model. "
   ]
  },
  {
   "cell_type": "markdown",
   "metadata": {},
   "source": [
    "**Remark**:\n",
    "One thing that we want to remark here is that actually we have tried a lot of method of feature engerineering and none of them could significantly improve our model accuracy. The result we generated above could only imporve a little on accuracy."
   ]
  },
  {
   "cell_type": "markdown",
   "metadata": {},
   "source": [
    "### Fairness Evaluation"
   ]
  },
  {
   "cell_type": "markdown",
   "metadata": {},
   "source": [
    "For our fairness evaluation, we choose the column `POPULATION` and want to conduct a test that if severe weather causing the outages is \"fair\" among the different populations in states. We will use recall as our parity measurement."
   ]
  },
  {
   "cell_type": "code",
   "execution_count": 428,
   "metadata": {},
   "outputs": [
    {
     "data": {
      "text/html": [
       "<div>\n",
       "<style scoped>\n",
       "    .dataframe tbody tr th:only-of-type {\n",
       "        vertical-align: middle;\n",
       "    }\n",
       "\n",
       "    .dataframe tbody tr th {\n",
       "        vertical-align: top;\n",
       "    }\n",
       "\n",
       "    .dataframe thead th {\n",
       "        text-align: right;\n",
       "    }\n",
       "</style>\n",
       "<table border=\"1\" class=\"dataframe\">\n",
       "  <thead>\n",
       "    <tr style=\"text-align: right;\">\n",
       "      <th></th>\n",
       "      <th>YEAR</th>\n",
       "      <th>MONTH</th>\n",
       "      <th>U.S._STATE</th>\n",
       "      <th>POSTAL.CODE</th>\n",
       "      <th>NERC.REGION</th>\n",
       "      <th>CLIMATE.REGION</th>\n",
       "      <th>ANOMALY.LEVEL</th>\n",
       "      <th>CLIMATE.CATEGORY</th>\n",
       "      <th>OUTAGE.START.DATE</th>\n",
       "      <th>OUTAGE.START.TIME</th>\n",
       "      <th>...</th>\n",
       "      <th>POPPCT_URBAN</th>\n",
       "      <th>POPPCT_UC</th>\n",
       "      <th>POPDEN_URBAN</th>\n",
       "      <th>POPDEN_UC</th>\n",
       "      <th>POPDEN_RURAL</th>\n",
       "      <th>AREAPCT_URBAN</th>\n",
       "      <th>AREAPCT_UC</th>\n",
       "      <th>PCT_LAND</th>\n",
       "      <th>PCT_WATER_TOT</th>\n",
       "      <th>PCT_WATER_INLAND</th>\n",
       "    </tr>\n",
       "  </thead>\n",
       "  <tbody>\n",
       "    <tr>\n",
       "      <th>0</th>\n",
       "      <td>2011</td>\n",
       "      <td>7</td>\n",
       "      <td>Minnesota</td>\n",
       "      <td>MN</td>\n",
       "      <td>MRO</td>\n",
       "      <td>East North Central</td>\n",
       "      <td>-0.3</td>\n",
       "      <td>normal</td>\n",
       "      <td>2011-07-01 00:00:00</td>\n",
       "      <td>17:00:00</td>\n",
       "      <td>...</td>\n",
       "      <td>73.27</td>\n",
       "      <td>15.28</td>\n",
       "      <td>2279</td>\n",
       "      <td>1700.5</td>\n",
       "      <td>18.2</td>\n",
       "      <td>2.14</td>\n",
       "      <td>0.6</td>\n",
       "      <td>91.5927</td>\n",
       "      <td>8.40733</td>\n",
       "      <td>5.47874</td>\n",
       "    </tr>\n",
       "    <tr>\n",
       "      <th>1</th>\n",
       "      <td>2014</td>\n",
       "      <td>5</td>\n",
       "      <td>Minnesota</td>\n",
       "      <td>MN</td>\n",
       "      <td>MRO</td>\n",
       "      <td>East North Central</td>\n",
       "      <td>-0.1</td>\n",
       "      <td>normal</td>\n",
       "      <td>2014-05-11 00:00:00</td>\n",
       "      <td>18:38:00</td>\n",
       "      <td>...</td>\n",
       "      <td>73.27</td>\n",
       "      <td>15.28</td>\n",
       "      <td>2279</td>\n",
       "      <td>1700.5</td>\n",
       "      <td>18.2</td>\n",
       "      <td>2.14</td>\n",
       "      <td>0.6</td>\n",
       "      <td>91.5927</td>\n",
       "      <td>8.40733</td>\n",
       "      <td>5.47874</td>\n",
       "    </tr>\n",
       "    <tr>\n",
       "      <th>2</th>\n",
       "      <td>2010</td>\n",
       "      <td>10</td>\n",
       "      <td>Minnesota</td>\n",
       "      <td>MN</td>\n",
       "      <td>MRO</td>\n",
       "      <td>East North Central</td>\n",
       "      <td>-1.5</td>\n",
       "      <td>cold</td>\n",
       "      <td>2010-10-26 00:00:00</td>\n",
       "      <td>20:00:00</td>\n",
       "      <td>...</td>\n",
       "      <td>73.27</td>\n",
       "      <td>15.28</td>\n",
       "      <td>2279</td>\n",
       "      <td>1700.5</td>\n",
       "      <td>18.2</td>\n",
       "      <td>2.14</td>\n",
       "      <td>0.6</td>\n",
       "      <td>91.5927</td>\n",
       "      <td>8.40733</td>\n",
       "      <td>5.47874</td>\n",
       "    </tr>\n",
       "    <tr>\n",
       "      <th>3</th>\n",
       "      <td>2012</td>\n",
       "      <td>6</td>\n",
       "      <td>Minnesota</td>\n",
       "      <td>MN</td>\n",
       "      <td>MRO</td>\n",
       "      <td>East North Central</td>\n",
       "      <td>-0.1</td>\n",
       "      <td>normal</td>\n",
       "      <td>2012-06-19 00:00:00</td>\n",
       "      <td>04:30:00</td>\n",
       "      <td>...</td>\n",
       "      <td>73.27</td>\n",
       "      <td>15.28</td>\n",
       "      <td>2279</td>\n",
       "      <td>1700.5</td>\n",
       "      <td>18.2</td>\n",
       "      <td>2.14</td>\n",
       "      <td>0.6</td>\n",
       "      <td>91.5927</td>\n",
       "      <td>8.40733</td>\n",
       "      <td>5.47874</td>\n",
       "    </tr>\n",
       "    <tr>\n",
       "      <th>4</th>\n",
       "      <td>2015</td>\n",
       "      <td>7</td>\n",
       "      <td>Minnesota</td>\n",
       "      <td>MN</td>\n",
       "      <td>MRO</td>\n",
       "      <td>East North Central</td>\n",
       "      <td>1.2</td>\n",
       "      <td>warm</td>\n",
       "      <td>2015-07-18 00:00:00</td>\n",
       "      <td>02:00:00</td>\n",
       "      <td>...</td>\n",
       "      <td>73.27</td>\n",
       "      <td>15.28</td>\n",
       "      <td>2279</td>\n",
       "      <td>1700.5</td>\n",
       "      <td>18.2</td>\n",
       "      <td>2.14</td>\n",
       "      <td>0.6</td>\n",
       "      <td>91.5927</td>\n",
       "      <td>8.40733</td>\n",
       "      <td>5.47874</td>\n",
       "    </tr>\n",
       "  </tbody>\n",
       "</table>\n",
       "<p>5 rows × 55 columns</p>\n",
       "</div>"
      ],
      "text/plain": [
       "   YEAR MONTH U.S._STATE POSTAL.CODE NERC.REGION      CLIMATE.REGION  \\\n",
       "0  2011     7  Minnesota          MN         MRO  East North Central   \n",
       "1  2014     5  Minnesota          MN         MRO  East North Central   \n",
       "2  2010    10  Minnesota          MN         MRO  East North Central   \n",
       "3  2012     6  Minnesota          MN         MRO  East North Central   \n",
       "4  2015     7  Minnesota          MN         MRO  East North Central   \n",
       "\n",
       "  ANOMALY.LEVEL CLIMATE.CATEGORY    OUTAGE.START.DATE OUTAGE.START.TIME  ...  \\\n",
       "0          -0.3           normal  2011-07-01 00:00:00          17:00:00  ...   \n",
       "1          -0.1           normal  2014-05-11 00:00:00          18:38:00  ...   \n",
       "2          -1.5             cold  2010-10-26 00:00:00          20:00:00  ...   \n",
       "3          -0.1           normal  2012-06-19 00:00:00          04:30:00  ...   \n",
       "4           1.2             warm  2015-07-18 00:00:00          02:00:00  ...   \n",
       "\n",
       "  POPPCT_URBAN POPPCT_UC POPDEN_URBAN POPDEN_UC POPDEN_RURAL AREAPCT_URBAN  \\\n",
       "0        73.27     15.28         2279    1700.5         18.2          2.14   \n",
       "1        73.27     15.28         2279    1700.5         18.2          2.14   \n",
       "2        73.27     15.28         2279    1700.5         18.2          2.14   \n",
       "3        73.27     15.28         2279    1700.5         18.2          2.14   \n",
       "4        73.27     15.28         2279    1700.5         18.2          2.14   \n",
       "\n",
       "  AREAPCT_UC PCT_LAND PCT_WATER_TOT PCT_WATER_INLAND  \n",
       "0        0.6  91.5927       8.40733          5.47874  \n",
       "1        0.6  91.5927       8.40733          5.47874  \n",
       "2        0.6  91.5927       8.40733          5.47874  \n",
       "3        0.6  91.5927       8.40733          5.47874  \n",
       "4        0.6  91.5927       8.40733          5.47874  \n",
       "\n",
       "[5 rows x 55 columns]"
      ]
     },
     "execution_count": 428,
     "metadata": {},
     "output_type": "execute_result"
    }
   ],
   "source": [
    "# display the original dataframe\n",
    "df2.head()"
   ]
  },
  {
   "cell_type": "markdown",
   "metadata": {},
   "source": [
    "Firstly, we need to develop a threshold for the state having large and small population."
   ]
  },
  {
   "cell_type": "code",
   "execution_count": 429,
   "metadata": {},
   "outputs": [
    {
     "data": {
      "text/plain": [
       "POPULATION    8769252.0\n",
       "dtype: float64"
      ]
     },
     "execution_count": 429,
     "metadata": {},
     "output_type": "execute_result"
    }
   ],
   "source": [
    "# Compute the median of population in the data\n",
    "df2[['POPULATION']].median()"
   ]
  },
  {
   "cell_type": "markdown",
   "metadata": {},
   "source": [
    "The median of the population in this dataset is 8,769,252. Therefore, we set the state which has population lower than 8,000,000 to be 'small population state', and the state which has population larger than 8,000,000 to be 'large population state'"
   ]
  },
  {
   "cell_type": "code",
   "execution_count": 455,
   "metadata": {},
   "outputs": [
    {
     "data": {
      "text/html": [
       "<div>\n",
       "<style scoped>\n",
       "    .dataframe tbody tr th:only-of-type {\n",
       "        vertical-align: middle;\n",
       "    }\n",
       "\n",
       "    .dataframe tbody tr th {\n",
       "        vertical-align: top;\n",
       "    }\n",
       "\n",
       "    .dataframe thead th {\n",
       "        text-align: right;\n",
       "    }\n",
       "</style>\n",
       "<table border=\"1\" class=\"dataframe\">\n",
       "  <thead>\n",
       "    <tr style=\"text-align: right;\">\n",
       "      <th></th>\n",
       "      <th>MONTH</th>\n",
       "      <th>CLIMATE.REGION</th>\n",
       "      <th>CLIMATE.CATEGORY</th>\n",
       "      <th>ANOMALY.LEVEL</th>\n",
       "      <th>CUSTOMERS.AFFECTED</th>\n",
       "      <th>DEMAND.LOSS.MW</th>\n",
       "      <th>OUTAGE.DURATION</th>\n",
       "      <th>CAUSE.CATEGORY</th>\n",
       "      <th>statePopulation</th>\n",
       "      <th>prediction</th>\n",
       "    </tr>\n",
       "  </thead>\n",
       "  <tbody>\n",
       "    <tr>\n",
       "      <th>463</th>\n",
       "      <td>8</td>\n",
       "      <td>Northwest</td>\n",
       "      <td>cold</td>\n",
       "      <td>-0.6</td>\n",
       "      <td>NaN</td>\n",
       "      <td>NaN</td>\n",
       "      <td>369.0</td>\n",
       "      <td>0</td>\n",
       "      <td>SMALL</td>\n",
       "      <td>0</td>\n",
       "    </tr>\n",
       "    <tr>\n",
       "      <th>237</th>\n",
       "      <td>4</td>\n",
       "      <td>South</td>\n",
       "      <td>normal</td>\n",
       "      <td>-0.2</td>\n",
       "      <td>51404.0</td>\n",
       "      <td>108.0</td>\n",
       "      <td>95.0</td>\n",
       "      <td>0</td>\n",
       "      <td>LARGE</td>\n",
       "      <td>0</td>\n",
       "    </tr>\n",
       "    <tr>\n",
       "      <th>87</th>\n",
       "      <td>11</td>\n",
       "      <td>East North Central</td>\n",
       "      <td>warm</td>\n",
       "      <td>2.2</td>\n",
       "      <td>60000.0</td>\n",
       "      <td>NaN</td>\n",
       "      <td>1710.0</td>\n",
       "      <td>1</td>\n",
       "      <td>LARGE</td>\n",
       "      <td>1</td>\n",
       "    </tr>\n",
       "    <tr>\n",
       "      <th>1064</th>\n",
       "      <td>9</td>\n",
       "      <td>Southeast</td>\n",
       "      <td>warm</td>\n",
       "      <td>0.7</td>\n",
       "      <td>285300.0</td>\n",
       "      <td>1250.0</td>\n",
       "      <td>2040.0</td>\n",
       "      <td>1</td>\n",
       "      <td>LARGE</td>\n",
       "      <td>1</td>\n",
       "    </tr>\n",
       "    <tr>\n",
       "      <th>426</th>\n",
       "      <td>3</td>\n",
       "      <td>Northwest</td>\n",
       "      <td>warm</td>\n",
       "      <td>1.6</td>\n",
       "      <td>0.0</td>\n",
       "      <td>0.0</td>\n",
       "      <td>1919.0</td>\n",
       "      <td>0</td>\n",
       "      <td>SMALL</td>\n",
       "      <td>0</td>\n",
       "    </tr>\n",
       "  </tbody>\n",
       "</table>\n",
       "</div>"
      ],
      "text/plain": [
       "     MONTH      CLIMATE.REGION CLIMATE.CATEGORY  ANOMALY.LEVEL  \\\n",
       "463      8           Northwest             cold           -0.6   \n",
       "237      4               South           normal           -0.2   \n",
       "87      11  East North Central             warm            2.2   \n",
       "1064     9           Southeast             warm            0.7   \n",
       "426      3           Northwest             warm            1.6   \n",
       "\n",
       "      CUSTOMERS.AFFECTED  DEMAND.LOSS.MW  OUTAGE.DURATION  CAUSE.CATEGORY  \\\n",
       "463                  NaN             NaN            369.0               0   \n",
       "237              51404.0           108.0             95.0               0   \n",
       "87               60000.0             NaN           1710.0               1   \n",
       "1064            285300.0          1250.0           2040.0               1   \n",
       "426                  0.0             0.0           1919.0               0   \n",
       "\n",
       "     statePopulation  prediction  \n",
       "463            SMALL           0  \n",
       "237            LARGE           0  \n",
       "87             LARGE           1  \n",
       "1064           LARGE           1  \n",
       "426            SMALL           0  "
      ]
     },
     "execution_count": 455,
     "metadata": {},
     "output_type": "execute_result"
    }
   ],
   "source": [
    "# Create a new dataframe df5 using the test data\n",
    "df5=X_test\n",
    "\n",
    "# Add a column that is equal to the actual value of cause in test data\n",
    "df5['CAUSE.CATEGORY']=y_test\n",
    "\n",
    "# Set the population to be \"SMALL\" and \"LARGE\" based on the population size\n",
    "df5['statePopulation']=(df2.POPULATION <= 8000000).replace({True:'SMALL', False:'LARGE'})\n",
    "\n",
    "# Add the prediction values\n",
    "preds = pl2.predict(X_test)\n",
    "df5['prediction']=preds\n",
    "\n",
    "# df5 is the new dataframe that we are going to use\n",
    "df5.head()"
   ]
  },
  {
   "cell_type": "markdown",
   "metadata": {},
   "source": [
    "Compute the recall using metrics_recall and find the observed predicting recalls among two groups."
   ]
  },
  {
   "cell_type": "code",
   "execution_count": 456,
   "metadata": {},
   "outputs": [
    {
     "data": {
      "text/html": [
       "<div>\n",
       "<style scoped>\n",
       "    .dataframe tbody tr th:only-of-type {\n",
       "        vertical-align: middle;\n",
       "    }\n",
       "\n",
       "    .dataframe tbody tr th {\n",
       "        vertical-align: top;\n",
       "    }\n",
       "\n",
       "    .dataframe thead th {\n",
       "        text-align: right;\n",
       "    }\n",
       "</style>\n",
       "<table border=\"1\" class=\"dataframe\">\n",
       "  <thead>\n",
       "    <tr style=\"text-align: right;\">\n",
       "      <th></th>\n",
       "      <th>recall</th>\n",
       "    </tr>\n",
       "    <tr>\n",
       "      <th>statePopulation</th>\n",
       "      <th></th>\n",
       "    </tr>\n",
       "  </thead>\n",
       "  <tbody>\n",
       "    <tr>\n",
       "      <th>LARGE</th>\n",
       "      <td>0.884615</td>\n",
       "    </tr>\n",
       "    <tr>\n",
       "      <th>SMALL</th>\n",
       "      <td>0.852941</td>\n",
       "    </tr>\n",
       "  </tbody>\n",
       "</table>\n",
       "</div>"
      ],
      "text/plain": [
       "                   recall\n",
       "statePopulation          \n",
       "LARGE            0.884615\n",
       "SMALL            0.852941"
      ]
     },
     "execution_count": 456,
     "metadata": {},
     "output_type": "execute_result"
    }
   ],
   "source": [
    "(\n",
    "    df5\n",
    "    .groupby('statePopulation')\n",
    "    .apply(lambda x: metrics.recall_score(x['CAUSE.CATEGORY'], x['prediction']))\n",
    "    .rename('recall')\n",
    "    .to_frame()\n",
    ")"
   ]
  },
  {
   "cell_type": "markdown",
   "metadata": {},
   "source": [
    "Next, we perform the permutation test."
   ]
  },
  {
   "cell_type": "code",
   "execution_count": 457,
   "metadata": {},
   "outputs": [],
   "source": [
    "# This is the observed difference of recalls among different population groups.\n",
    "obs = df5.groupby('statePopulation').apply(lambda x: metrics.recall_score(x['CAUSE.CATEGORY'], x['prediction'])).diff().iloc[-1]\n",
    "\n",
    "# We perform permutation on the dataframe df5\n",
    "metrs = []\n",
    "for _ in range(100):\n",
    "    s = (\n",
    "        df5[['statePopulation', 'prediction', 'CAUSE.CATEGORY']]\n",
    "        .assign(statePopulation=df5.statePopulation.sample(frac=1.0, replace=False).reset_index(drop=True))\n",
    "        .groupby('statePopulation')\n",
    "        .apply(lambda x: metrics.recall_score(x['CAUSE.CATEGORY'], x['prediction']))\n",
    "        .diff()\n",
    "        .iloc[-1]\n",
    "    )\n",
    "    \n",
    "    metrs.append(s)\n",
    "\n"
   ]
  },
  {
   "cell_type": "code",
   "execution_count": 469,
   "metadata": {},
   "outputs": [
    {
     "name": "stdout",
     "output_type": "stream",
     "text": [
      "0.24\n"
     ]
    },
    {
     "data": {
      "image/png": "[encoded data removed]",
      "text/plain": [
       "<Figure size 432x288 with 1 Axes>"
      ]
     },
     "metadata": {
      "image/png": {
       "height": 263,
       "width": 414
      },
      "needs_background": "light"
     },
     "output_type": "display_data"
    }
   ],
   "source": [
    "print(pd.Series(metrs <= obs).mean())\n",
    "pd.Series(metrs).plot(kind='hist', title='Permutation Test for severe weather across small/large population')\n",
    "plt.scatter(obs, -0.01, c='r');"
   ]
  },
  {
   "cell_type": "markdown",
   "metadata": {},
   "source": [
    "Remark: The red point should be at height 0. However, since the graph covers the point and we cannot see, I adjust its height to a little bit negative."
   ]
  },
  {
   "cell_type": "markdown",
   "metadata": {},
   "source": [
    "The resulted p-value is 0.24, under a significance level of 0.01, we fail to reject the claim that severe weather causing the outages is \"fair\" among the different populations in states."
   ]
  },
  {
   "cell_type": "code",
   "execution_count": null,
   "metadata": {},
   "outputs": [],
   "source": []
  },
  {
   "cell_type": "code",
   "execution_count": null,
   "metadata": {},
   "outputs": [],
   "source": []
  }
 ],
 "metadata": {
  "kernelspec": {
   "display_name": "Python 3",
   "language": "python",
   "name": "python3"
  },
  "language_info": {
   "codemirror_mode": {
    "name": "ipython",
    "version": 3
   },
   "file_extension": ".py",
   "mimetype": "text/x-python",
   "name": "python",
   "nbconvert_exporter": "python",
   "pygments_lexer": "ipython3",
   "version": "3.7.3"
  }
 },
 "nbformat": 4,
 "nbformat_minor": 4
}
